{
 "cells": [
  {
   "cell_type": "markdown",
   "metadata": {},
   "source": [
    "### Escolha do Melhor Modelo de Predição do Dataset Ames"
   ]
  },
  {
   "cell_type": "code",
   "execution_count": 147,
   "metadata": {},
   "outputs": [],
   "source": [
    "import pickle\n",
    "import pathlib\n",
    "\n",
    "import numpy as np\n",
    "import pandas as pd"
   ]
  },
  {
   "cell_type": "code",
   "execution_count": 148,
   "metadata": {},
   "outputs": [
    {
     "name": "stdout",
     "output_type": "stream",
     "text": [
      "c:\\Users\\giuli\\OneDrive - Insper - Institudo de Ensino e Pesquisa\\Documentos\\insper\\MachineLearning\\data\n"
     ]
    }
   ],
   "source": [
    "DATA_DIR = pathlib.Path.cwd().parent / 'data'\n",
    "print(DATA_DIR)"
   ]
  },
  {
   "cell_type": "code",
   "execution_count": 149,
   "metadata": {},
   "outputs": [],
   "source": [
    "clean_data_path = DATA_DIR / 'processed' / 'ames_clean.pkl'"
   ]
  },
  {
   "cell_type": "code",
   "execution_count": 150,
   "metadata": {},
   "outputs": [],
   "source": [
    "with open(clean_data_path, 'rb') as file:\n",
    "    data = pickle.load(file)"
   ]
  },
  {
   "cell_type": "code",
   "execution_count": 151,
   "metadata": {},
   "outputs": [
    {
     "name": "stdout",
     "output_type": "stream",
     "text": [
      "<class 'pandas.core.frame.DataFrame'>\n",
      "Index: 2876 entries, 0 to 2929\n",
      "Data columns (total 70 columns):\n",
      " #   Column           Non-Null Count  Dtype   \n",
      "---  ------           --------------  -----   \n",
      " 0   MS.SubClass      2876 non-null   category\n",
      " 1   MS.Zoning        2876 non-null   category\n",
      " 2   Lot.Frontage     2876 non-null   float64 \n",
      " 3   Lot.Area         2876 non-null   float64 \n",
      " 4   Lot.Shape        2876 non-null   category\n",
      " 5   Land.Contour     2876 non-null   category\n",
      " 6   Lot.Config       2876 non-null   category\n",
      " 7   Land.Slope       2876 non-null   category\n",
      " 8   Neighborhood     2876 non-null   category\n",
      " 9   Bldg.Type        2876 non-null   category\n",
      " 10  House.Style      2876 non-null   category\n",
      " 11  Overall.Qual     2876 non-null   category\n",
      " 12  Overall.Cond     2876 non-null   category\n",
      " 13  Roof.Style       2876 non-null   category\n",
      " 14  Mas.Vnr.Type     2876 non-null   category\n",
      " 15  Mas.Vnr.Area     2876 non-null   float64 \n",
      " 16  Exter.Qual       2876 non-null   category\n",
      " 17  Exter.Cond       2876 non-null   category\n",
      " 18  Foundation       2876 non-null   category\n",
      " 19  Bsmt.Qual        2876 non-null   category\n",
      " 20  Bsmt.Cond        2876 non-null   category\n",
      " 21  Bsmt.Exposure    2876 non-null   category\n",
      " 22  BsmtFin.Type.1   2876 non-null   category\n",
      " 23  BsmtFin.SF.1     2876 non-null   float64 \n",
      " 24  BsmtFin.Type.2   2876 non-null   category\n",
      " 25  BsmtFin.SF.2     2876 non-null   float64 \n",
      " 26  Bsmt.Unf.SF      2876 non-null   float64 \n",
      " 27  Total.Bsmt.SF    2876 non-null   float64 \n",
      " 28  Heating.QC       2876 non-null   category\n",
      " 29  Central.Air      2876 non-null   category\n",
      " 30  Electrical       2876 non-null   category\n",
      " 31  X1st.Flr.SF      2876 non-null   float64 \n",
      " 32  X2nd.Flr.SF      2876 non-null   float64 \n",
      " 33  Low.Qual.Fin.SF  2876 non-null   float64 \n",
      " 34  Gr.Liv.Area      2876 non-null   float64 \n",
      " 35  Bsmt.Full.Bath   2876 non-null   float64 \n",
      " 36  Bsmt.Half.Bath   2876 non-null   float64 \n",
      " 37  Full.Bath        2876 non-null   float64 \n",
      " 38  Half.Bath        2876 non-null   float64 \n",
      " 39  Bedroom.AbvGr    2876 non-null   float64 \n",
      " 40  Kitchen.AbvGr    2876 non-null   float64 \n",
      " 41  Kitchen.Qual     2876 non-null   category\n",
      " 42  TotRms.AbvGrd    2876 non-null   float64 \n",
      " 43  Functional       2876 non-null   category\n",
      " 44  Fireplaces       2876 non-null   float64 \n",
      " 45  Garage.Type      2876 non-null   category\n",
      " 46  Garage.Finish    2876 non-null   category\n",
      " 47  Garage.Cars      2876 non-null   float64 \n",
      " 48  Garage.Area      2876 non-null   float64 \n",
      " 49  Paved.Drive      2876 non-null   category\n",
      " 50  Wood.Deck.SF     2876 non-null   float64 \n",
      " 51  Open.Porch.SF    2876 non-null   float64 \n",
      " 52  Enclosed.Porch   2876 non-null   float64 \n",
      " 53  X3Ssn.Porch      2876 non-null   float64 \n",
      " 54  Screen.Porch     2876 non-null   float64 \n",
      " 55  Pool.Area        2876 non-null   float64 \n",
      " 56  Fence            2876 non-null   category\n",
      " 57  Misc.Val         2876 non-null   float64 \n",
      " 58  Mo.Sold          2876 non-null   float64 \n",
      " 59  Yr.Sold          2876 non-null   float64 \n",
      " 60  Sale.Type        2876 non-null   category\n",
      " 61  Sale.Condition   2876 non-null   category\n",
      " 62  SalePrice        2876 non-null   float64 \n",
      " 63  Condition        2876 non-null   category\n",
      " 64  HasShed          2876 non-null   bool    \n",
      " 65  HasAlley         2876 non-null   bool    \n",
      " 66  Exterior         2876 non-null   category\n",
      " 67  Garage.Age       2876 non-null   float64 \n",
      " 68  Remod.Age        2876 non-null   float64 \n",
      " 69  House.Age        2876 non-null   float64 \n",
      "dtypes: bool(2), category(34), float64(34)\n",
      "memory usage: 889.1 KB\n"
     ]
    }
   ],
   "source": [
    "data.info()"
   ]
  },
  {
   "cell_type": "code",
   "execution_count": 152,
   "metadata": {},
   "outputs": [],
   "source": [
    "model_data = data.copy()"
   ]
  },
  {
   "cell_type": "markdown",
   "metadata": {},
   "source": [
    "##### *Codificação de variáveis categóricas* \n",
    "\n",
    "Vamos identificar todas as variáveis categóricas, tanto as nominais - categóricas sem ordem entre as categorias - quanto as ordinais - categóricas com uma ordem definida."
   ]
  },
  {
   "cell_type": "code",
   "execution_count": 153,
   "metadata": {},
   "outputs": [],
   "source": [
    "categorical_columns = []\n",
    "ordinal_columns = []\n",
    "for col in model_data.select_dtypes('category').columns:\n",
    "    if model_data[col].cat.ordered:\n",
    "        ordinal_columns.append(col)\n",
    "    else:\n",
    "        categorical_columns.append(col)"
   ]
  },
  {
   "cell_type": "code",
   "execution_count": 154,
   "metadata": {},
   "outputs": [
    {
     "data": {
      "text/plain": [
       "['Lot.Shape',\n",
       " 'Land.Slope',\n",
       " 'Overall.Qual',\n",
       " 'Overall.Cond',\n",
       " 'Exter.Qual',\n",
       " 'Exter.Cond',\n",
       " 'Heating.QC',\n",
       " 'Electrical',\n",
       " 'Kitchen.Qual',\n",
       " 'Functional',\n",
       " 'Paved.Drive',\n",
       " 'Fence']"
      ]
     },
     "execution_count": 154,
     "metadata": {},
     "output_type": "execute_result"
    }
   ],
   "source": [
    "ordinal_columns"
   ]
  },
  {
   "cell_type": "code",
   "execution_count": 155,
   "metadata": {},
   "outputs": [
    {
     "data": {
      "text/plain": [
       "['MS.SubClass',\n",
       " 'MS.Zoning',\n",
       " 'Land.Contour',\n",
       " 'Lot.Config',\n",
       " 'Neighborhood',\n",
       " 'Bldg.Type',\n",
       " 'House.Style',\n",
       " 'Roof.Style',\n",
       " 'Mas.Vnr.Type',\n",
       " 'Foundation',\n",
       " 'Bsmt.Qual',\n",
       " 'Bsmt.Cond',\n",
       " 'Bsmt.Exposure',\n",
       " 'BsmtFin.Type.1',\n",
       " 'BsmtFin.Type.2',\n",
       " 'Central.Air',\n",
       " 'Garage.Type',\n",
       " 'Garage.Finish',\n",
       " 'Sale.Type',\n",
       " 'Sale.Condition',\n",
       " 'Condition',\n",
       " 'Exterior']"
      ]
     },
     "execution_count": 155,
     "metadata": {},
     "output_type": "execute_result"
    }
   ],
   "source": [
    "categorical_columns"
   ]
  },
  {
   "cell_type": "markdown",
   "metadata": {},
   "source": [
    "\n",
    "##### *Codificação de variáveis ordinais*\n",
    "\n",
    "Variáveis ordinais podem ser transformadas em números inteiros de forma direta: a categoria mais baixa recebe o valor \"zero\", a próxima recebe o valor \"um\", e assim por diante. "
   ]
  },
  {
   "cell_type": "code",
   "execution_count": 156,
   "metadata": {},
   "outputs": [],
   "source": [
    "for col in ordinal_columns:\n",
    "    codes, _ = pd.factorize(data[col], sort=True)\n",
    "    model_data[col] = codes"
   ]
  },
  {
   "cell_type": "code",
   "execution_count": 157,
   "metadata": {},
   "outputs": [
    {
     "name": "stdout",
     "output_type": "stream",
     "text": [
      "<class 'pandas.core.frame.DataFrame'>\n",
      "Index: 2876 entries, 0 to 2929\n",
      "Data columns (total 12 columns):\n",
      " #   Column        Non-Null Count  Dtype\n",
      "---  ------        --------------  -----\n",
      " 0   Lot.Shape     2876 non-null   int64\n",
      " 1   Land.Slope    2876 non-null   int64\n",
      " 2   Overall.Qual  2876 non-null   int64\n",
      " 3   Overall.Cond  2876 non-null   int64\n",
      " 4   Exter.Qual    2876 non-null   int64\n",
      " 5   Exter.Cond    2876 non-null   int64\n",
      " 6   Heating.QC    2876 non-null   int64\n",
      " 7   Electrical    2876 non-null   int64\n",
      " 8   Kitchen.Qual  2876 non-null   int64\n",
      " 9   Functional    2876 non-null   int64\n",
      " 10  Paved.Drive   2876 non-null   int64\n",
      " 11  Fence         2876 non-null   int64\n",
      "dtypes: int64(12)\n",
      "memory usage: 292.1 KB\n"
     ]
    }
   ],
   "source": [
    "model_data[ordinal_columns].info()"
   ]
  },
  {
   "cell_type": "code",
   "execution_count": 158,
   "metadata": {},
   "outputs": [
    {
     "data": {
      "text/plain": [
       "Lot.Shape\n",
       "Reg    1824\n",
       "IR1     960\n",
       "IR2      76\n",
       "IR3      16\n",
       "Name: count, dtype: int64"
      ]
     },
     "execution_count": 158,
     "metadata": {},
     "output_type": "execute_result"
    }
   ],
   "source": [
    "data['Lot.Shape'].value_counts()"
   ]
  },
  {
   "cell_type": "code",
   "execution_count": 159,
   "metadata": {},
   "outputs": [
    {
     "data": {
      "text/plain": [
       "Lot.Shape\n",
       "0    1824\n",
       "1     960\n",
       "2      76\n",
       "3      16\n",
       "Name: count, dtype: int64"
      ]
     },
     "execution_count": 159,
     "metadata": {},
     "output_type": "execute_result"
    }
   ],
   "source": [
    "model_data['Lot.Shape'].value_counts()"
   ]
  },
  {
   "cell_type": "markdown",
   "metadata": {},
   "source": [
    "##### *Codificação de variáveis nominais*\n",
    "\n",
    "A estratégia para codificar a variáveis nominais é criar várias novas variáveis numéricas para representar a associação de um dado item a uma das categorias de determinada variável. Essas variáveis são chamadas de variáveis dummy.\n",
    "\n",
    "Cada uma dessas novas variáveis contém apenas os valores \"zero\" ou \"um\", no qual:\n",
    "\n",
    "- 1 indica que o item pertence à categoria representada pela variável;\n",
    "- 0 indica que o item não pertence a essa categoria.\n",
    "\n",
    "Para um dado item, apenas uma variável dummy terá o valor 1, enquanto todas as demais serão 0."
   ]
  },
  {
   "cell_type": "code",
   "execution_count": 160,
   "metadata": {},
   "outputs": [],
   "source": [
    "model_data = pd.get_dummies(model_data, drop_first=True)"
   ]
  },
  {
   "cell_type": "code",
   "execution_count": 161,
   "metadata": {},
   "outputs": [
    {
     "name": "stdout",
     "output_type": "stream",
     "text": [
      "<class 'pandas.core.frame.DataFrame'>\n",
      "Index: 2876 entries, 0 to 2929\n",
      "Columns: 165 entries, Lot.Frontage to Exterior_Other\n",
      "dtypes: bool(119), float64(34), int64(12)\n",
      "memory usage: 1.4 MB\n"
     ]
    }
   ],
   "source": [
    "model_data.info()"
   ]
  },
  {
   "cell_type": "code",
   "execution_count": 162,
   "metadata": {},
   "outputs": [
    {
     "name": "stdout",
     "output_type": "stream",
     "text": [
      "From column \"MS.SubClass\" we made \"MS.SubClass_30\", \"MS.SubClass_50\", \"MS.SubClass_60\", \"MS.SubClass_70\", \"MS.SubClass_80\", \"MS.SubClass_85\", \"MS.SubClass_90\", \"MS.SubClass_120\", \"MS.SubClass_160\", \"MS.SubClass_190\", \"MS.SubClass_Other\"\n",
      "\n",
      "From column \"MS.Zoning\" we made \"MS.Zoning_RH\", \"MS.Zoning_RL\", \"MS.Zoning_RM\"\n",
      "\n",
      "From column \"Land.Contour\" we made \"Land.Contour_HLS\", \"Land.Contour_Low\", \"Land.Contour_Lvl\"\n",
      "\n",
      "From column \"Lot.Config\" we made \"Lot.Config_CulDSac\", \"Lot.Config_FR2\", \"Lot.Config_FR3\", \"Lot.Config_Inside\"\n",
      "\n",
      "From column \"Neighborhood\" we made \"Neighborhood_BrDale\", \"Neighborhood_BrkSide\", \"Neighborhood_ClearCr\", \"Neighborhood_CollgCr\", \"Neighborhood_Crawfor\", \"Neighborhood_Edwards\", \"Neighborhood_Gilbert\", \"Neighborhood_IDOTRR\", \"Neighborhood_MeadowV\", \"Neighborhood_Mitchel\", \"Neighborhood_NAmes\", \"Neighborhood_NPkVill\", \"Neighborhood_NWAmes\", \"Neighborhood_NoRidge\", \"Neighborhood_NridgHt\", \"Neighborhood_OldTown\", \"Neighborhood_SWISU\", \"Neighborhood_Sawyer\", \"Neighborhood_SawyerW\", \"Neighborhood_Somerst\", \"Neighborhood_StoneBr\", \"Neighborhood_Timber\", \"Neighborhood_Veenker\"\n",
      "\n",
      "From column \"Bldg.Type\" we made \"Bldg.Type_2fmCon\", \"Bldg.Type_Duplex\", \"Bldg.Type_Twnhs\", \"Bldg.Type_TwnhsE\"\n",
      "\n",
      "From column \"House.Style\" we made \"House.Style_1.5Unf\", \"House.Style_1Story\", \"House.Style_2.5Fin\", \"House.Style_2.5Unf\", \"House.Style_2Story\", \"House.Style_SFoyer\", \"House.Style_SLvl\"\n",
      "\n",
      "From column \"Roof.Style\" we made \"Roof.Style_Hip\", \"Roof.Style_Other\"\n",
      "\n",
      "From column \"Mas.Vnr.Type\" we made \"Mas.Vnr.Type_Stone\", \"Mas.Vnr.Type_Other\", \"Mas.Vnr.Type_None\"\n",
      "\n",
      "From column \"Foundation\" we made \"Foundation_CBlock\", \"Foundation_PConc\", \"Foundation_Other\"\n",
      "\n",
      "From column \"Bsmt.Qual\" we made \"Bsmt.Qual_Gd\", \"Bsmt.Qual_TA\", \"Bsmt.Qual_Fa\", \"Bsmt.Qual_NA\"\n",
      "\n",
      "From column \"Bsmt.Cond\" we made \"Bsmt.Cond_TA\", \"Bsmt.Cond_Fa\", \"Bsmt.Cond_NA\"\n",
      "\n",
      "From column \"Bsmt.Exposure\" we made \"Bsmt.Exposure_Av\", \"Bsmt.Exposure_Mn\", \"Bsmt.Exposure_No\", \"Bsmt.Exposure_NA\"\n",
      "\n",
      "From column \"BsmtFin.Type.1\" we made \"BsmtFin.Type.1_ALQ\", \"BsmtFin.Type.1_BLQ\", \"BsmtFin.Type.1_Rec\", \"BsmtFin.Type.1_LwQ\", \"BsmtFin.Type.1_Unf\", \"BsmtFin.Type.1_NA\"\n",
      "\n",
      "From column \"BsmtFin.Type.2\" we made \"BsmtFin.Type.2_ALQ\", \"BsmtFin.Type.2_BLQ\", \"BsmtFin.Type.2_Rec\", \"BsmtFin.Type.2_LwQ\", \"BsmtFin.Type.2_Unf\", \"BsmtFin.Type.2_NA\"\n",
      "\n",
      "From column \"Central.Air\" we made \"Central.Air_Y\"\n",
      "\n",
      "From column \"Garage.Type\" we made \"Garage.Type_Attchd\", \"Garage.Type_Basment\", \"Garage.Type_BuiltIn\", \"Garage.Type_CarPort\", \"Garage.Type_Detchd\", \"Garage.Type_NoGarage\"\n",
      "\n",
      "From column \"Garage.Finish\" we made \"Garage.Finish_RFn\", \"Garage.Finish_Unf\", \"Garage.Finish_NoGarage\"\n",
      "\n",
      "From column \"Sale.Type\" we made \"Sale.Type_GroupedWD\", \"Sale.Type_Other\"\n",
      "\n",
      "From column \"Sale.Condition\" we made \"Sale.Condition_AdjLand\", \"Sale.Condition_Alloca\", \"Sale.Condition_Family\", \"Sale.Condition_Normal\", \"Sale.Condition_Partial\"\n",
      "\n",
      "From column \"Condition\" we made \"Condition_Railroad\", \"Condition_Roads\", \"Condition_Positive\", \"Condition_RoadsAndRailroad\"\n",
      "\n",
      "From column \"Exterior\" we made \"Exterior_BrkFace\", \"Exterior_CemntBd\", \"Exterior_HdBoard\", \"Exterior_MetalSd\", \"Exterior_Plywood\", \"Exterior_Stucco\", \"Exterior_VinylSd\", \"Exterior_Wd Sdng\", \"Exterior_WdShing\", \"Exterior_Other\"\n",
      "\n"
     ]
    }
   ],
   "source": [
    "for cat in categorical_columns:\n",
    "    dummies = []\n",
    "    for col in model_data.columns:\n",
    "        if col.startswith(cat + \"_\"):\n",
    "            dummies.append(f'\"{col}\"')\n",
    "    dummies_str = ', '.join(dummies)\n",
    "    print(f'From column \"{cat}\" we made {dummies_str}\\n')"
   ]
  },
  {
   "cell_type": "markdown",
   "metadata": {},
   "source": [
    "##### *Divisão do dataset em treino e teste*"
   ]
  },
  {
   "cell_type": "code",
   "execution_count": 163,
   "metadata": {},
   "outputs": [],
   "source": [
    "X = model_data.drop(columns=['SalePrice']).copy()\n",
    "y = model_data['SalePrice'].copy()"
   ]
  },
  {
   "cell_type": "code",
   "execution_count": 164,
   "metadata": {},
   "outputs": [
    {
     "data": {
      "text/plain": [
       "(array([[141.0, 31770.0, 1, ..., False, False, False],\n",
       "        [80.0, 11622.0, 0, ..., False, False, False],\n",
       "        [81.0, 14267.0, 1, ..., True, False, False],\n",
       "        ...,\n",
       "        [62.0, 10441.0, 0, ..., False, False, False],\n",
       "        [77.0, 10010.0, 0, ..., False, False, False],\n",
       "        [74.0, 9627.0, 0, ..., False, False, False]], dtype=object),\n",
       " array([5.33243846, 5.0211893 , 5.23552845, ..., 5.12057393, 5.23044892,\n",
       "        5.27415785]))"
      ]
     },
     "execution_count": 164,
     "metadata": {},
     "output_type": "execute_result"
    }
   ],
   "source": [
    "X.values, y.values"
   ]
  },
  {
   "cell_type": "code",
   "execution_count": 165,
   "metadata": {},
   "outputs": [],
   "source": [
    "from sklearn.model_selection import train_test_split"
   ]
  },
  {
   "cell_type": "code",
   "execution_count": 166,
   "metadata": {},
   "outputs": [],
   "source": [
    "RANDOM_SEED = 42"
   ]
  },
  {
   "cell_type": "code",
   "execution_count": 167,
   "metadata": {},
   "outputs": [],
   "source": [
    "Xtrain, Xtest, ytrain, ytest = train_test_split(\n",
    "    X,\n",
    "    y,\n",
    "    test_size=0.25,\n",
    "    random_state=RANDOM_SEED,\n",
    ")"
   ]
  },
  {
   "cell_type": "code",
   "execution_count": 168,
   "metadata": {},
   "outputs": [
    {
     "data": {
      "text/plain": [
       "((2876, 164), (2157, 164), (719, 164))"
      ]
     },
     "execution_count": 168,
     "metadata": {},
     "output_type": "execute_result"
    }
   ],
   "source": [
    "X.shape, Xtrain.shape, Xtest.shape"
   ]
  },
  {
   "cell_type": "code",
   "execution_count": 169,
   "metadata": {},
   "outputs": [
    {
     "data": {
      "text/plain": [
       "((2876,), (2157,), (719,))"
      ]
     },
     "execution_count": 169,
     "metadata": {},
     "output_type": "execute_result"
    }
   ],
   "source": [
    "y.shape, ytrain.shape, ytest.shape"
   ]
  },
  {
   "cell_type": "markdown",
   "metadata": {},
   "source": [
    "##### *Modelo 1 - Random Forest*"
   ]
  },
  {
   "cell_type": "code",
   "execution_count": 170,
   "metadata": {},
   "outputs": [],
   "source": [
    "from sklearn.ensemble import RandomForestRegressor\n",
    "from sklearn.dummy import DummyRegressor\n",
    "from sklearn.model_selection import GridSearchCV\n",
    "from sklearn.pipeline import Pipeline\n",
    "from sklearn.preprocessing import StandardScaler"
   ]
  },
  {
   "cell_type": "code",
   "execution_count": 171,
   "metadata": {},
   "outputs": [
    {
     "name": "stdout",
     "output_type": "stream",
     "text": [
      "Best parameters found:  {'model': RandomForestRegressor(), 'model__max_depth': 40, 'model__n_estimators': 400}\n",
      "Best score:  -0.0032873155981634843\n"
     ]
    }
   ],
   "source": [
    "pipeline = Pipeline([\n",
    "    ('scaler', StandardScaler()),\n",
    "    ('model', DummyRegressor()),\n",
    "])\n",
    "\n",
    "param_grid = [\n",
    "    {\n",
    "        'model': [DummyRegressor()],\n",
    "    },\n",
    "    {\n",
    "        'model': [RandomForestRegressor()],\n",
    "        'model__n_estimators': [200, 300, 400, 500],\n",
    "        'model__max_depth': [20, 30, 40, 50]\n",
    "    }\n",
    "]\n",
    "\n",
    "grid_search = GridSearchCV(\n",
    "    pipeline,\n",
    "    param_grid,\n",
    "    cv=5,\n",
    "    scoring='neg_mean_squared_error',\n",
    "    n_jobs=-1,\n",
    ")\n",
    "\n",
    "grid_search.fit(Xtrain, ytrain)\n",
    "\n",
    "print(\"Best parameters found: \", grid_search.best_params_)\n",
    "print(\"Best score: \", grid_search.best_score_)"
   ]
  },
  {
   "cell_type": "markdown",
   "metadata": {},
   "source": [
    "##### *Modelo 2 - Ridge*"
   ]
  },
  {
   "cell_type": "code",
   "execution_count": 172,
   "metadata": {},
   "outputs": [],
   "source": [
    "from sklearn.linear_model import Ridge"
   ]
  },
  {
   "cell_type": "code",
   "execution_count": 173,
   "metadata": {},
   "outputs": [
    {
     "name": "stdout",
     "output_type": "stream",
     "text": [
      "Best parameters found:  {'model': Ridge(), 'model__alpha': 100.0}\n",
      "Best score:  -0.0028599092258193024\n"
     ]
    }
   ],
   "source": [
    "pipeline = Pipeline([\n",
    "    ('scaler', StandardScaler()),\n",
    "    ('model', DummyRegressor()),\n",
    "])\n",
    "\n",
    "param_grid = [\n",
    "    {\n",
    "        'model': [DummyRegressor()],\n",
    "    },\n",
    "    {\n",
    "        'model': [Ridge()],\n",
    "        'model__alpha': [0.1, 1.0, 10.0, 100.0, 1000.0]\n",
    "    },\n",
    "]\n",
    "\n",
    "grid_search = GridSearchCV(\n",
    "    pipeline,\n",
    "    param_grid,\n",
    "    cv=5,\n",
    "    scoring='neg_mean_squared_error',\n",
    "    n_jobs=-1,\n",
    ")\n",
    "grid_search.fit(Xtrain, ytrain)\n",
    "\n",
    "print(\"Best parameters found: \", grid_search.best_params_)\n",
    "print(\"Best score: \", grid_search.best_score_)"
   ]
  },
  {
   "cell_type": "markdown",
   "metadata": {},
   "source": [
    "##### *Treino e Medição de Desempenho do Modelo Escolhido*\n",
    "\n",
    "O modelo que obteve o melhor desempenho foi o modelo Ridge, com alpha valendo 100. Vamos treinar o modelo com todos os dados de treino e medir o desempenho com os dados de teste."
   ]
  },
  {
   "cell_type": "code",
   "execution_count": 174,
   "metadata": {},
   "outputs": [],
   "source": [
    "from sklearn.metrics import mean_squared_error"
   ]
  },
  {
   "cell_type": "code",
   "execution_count": 175,
   "metadata": {},
   "outputs": [
    {
     "name": "stdout",
     "output_type": "stream",
     "text": [
      "Test MSE:  0.0038387982901674296\n",
      "Test RMSE:  0.061958036526082956\n"
     ]
    }
   ],
   "source": [
    "best_model = grid_search.best_estimator_\n",
    "\n",
    "best_model.fit(Xtrain, ytrain)\n",
    "\n",
    "ytest_pred = best_model.predict(Xtest)\n",
    "\n",
    "test_mse = mean_squared_error(ytest, ytest_pred)\n",
    "\n",
    "test_rmse = test_mse ** 0.5\n",
    "\n",
    "print(\"Test MSE: \", test_mse)\n",
    "print(\"Test RMSE: \", test_rmse)\n"
   ]
  },
  {
   "cell_type": "markdown",
   "metadata": {},
   "source": [
    "Vamos agorar descobrir quais variáveis causam um maior impacto no preço das casas."
   ]
  },
  {
   "cell_type": "code",
   "execution_count": null,
   "metadata": {},
   "outputs": [
    {
     "name": "stdout",
     "output_type": "stream",
     "text": [
      "                Feature  Coefficient  AbsCoefficient\n",
      "4          Overall.Qual     0.027609        0.027609\n",
      "18          Gr.Liv.Area     0.024350        0.024350\n",
      "5          Overall.Cond     0.016293        0.016293\n",
      "16          X2nd.Flr.SF     0.015260        0.015260\n",
      "46            House.Age    -0.015208        0.015208\n",
      "..                  ...          ...             ...\n",
      "91     Bldg.Type_2fmCon    -0.000103        0.000103\n",
      "52       MS.SubClass_85     0.000074        0.000074\n",
      "97   House.Style_2.5Fin     0.000074        0.000074\n",
      "67    Lot.Config_Inside    -0.000057        0.000057\n",
      "159     Exterior_Stucco     0.000034        0.000034\n",
      "\n",
      "[164 rows x 3 columns]\n"
     ]
    }
   ],
   "source": [
    "import pandas as pd\n",
    "import numpy as np\n",
    "\n",
    "coefficients = best_model.coef_\n",
    "\n",
    "coef_df = pd.DataFrame({\n",
    "    'Feature': Xtrain.columns,\n",
    "    'Coefficient': coefficients\n",
    "})\n",
    "\n",
    "coef_df['AbsCoefficient'] = np.abs(coef_df['Coefficient'])\n",
    "coef_df = coef_df.sort_values(by='AbsCoefficient', ascending=False)\n",
    "\n",
    "print(coef_df)"
   ]
  }
 ],
 "metadata": {
  "kernelspec": {
   "display_name": ".venv",
   "language": "python",
   "name": "python3"
  },
  "language_info": {
   "codemirror_mode": {
    "name": "ipython",
    "version": 3
   },
   "file_extension": ".py",
   "mimetype": "text/x-python",
   "name": "python",
   "nbconvert_exporter": "python",
   "pygments_lexer": "ipython3",
   "version": "3.10.9"
  }
 },
 "nbformat": 4,
 "nbformat_minor": 2
}
